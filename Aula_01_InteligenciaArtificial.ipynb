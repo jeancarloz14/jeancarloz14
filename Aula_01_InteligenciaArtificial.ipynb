{
  "nbformat": 4,
  "nbformat_minor": 0,
  "metadata": {
    "colab": {
      "name": "Aula-01-InteligenciaArtificial.ipynb",
      "provenance": [],
      "authorship_tag": "ABX9TyO5+yxnPMMAmY/HaHiiCN7b",
      "include_colab_link": true
    },
    "kernelspec": {
      "name": "python3",
      "display_name": "Python 3"
    },
    "language_info": {
      "name": "python"
    }
  },
  "cells": [
    {
      "cell_type": "markdown",
      "metadata": {
        "id": "view-in-github",
        "colab_type": "text"
      },
      "source": [
        "<a href=\"https://colab.research.google.com/github/jeancarloz14/jeancarloz14/blob/main/Aula_01_InteligenciaArtificial.ipynb\" target=\"_parent\"><img src=\"https://colab.research.google.com/assets/colab-badge.svg\" alt=\"Open In Colab\"/></a>"
      ]
    },
    {
      "cell_type": "markdown",
      "source": [
        "Primeiros passos do tratamento de dados na nuvem - Autor: Jean Cartlos Dias de Souza"
      ],
      "metadata": {
        "id": "DTXf-uiFCXG7"
      }
    },
    {
      "cell_type": "code",
      "source": [
        "a = 10\n",
        "b = 40\n",
        "c = (a + b)\n",
        "print('o valor total é:',c)\n"
      ],
      "metadata": {
        "colab": {
          "base_uri": "https://localhost:8080/"
        },
        "id": "nQNBKrqcC5ho",
        "outputId": "988ea9df-bff2-4a3c-ea05-97196c2a2d8c"
      },
      "execution_count": 2,
      "outputs": [
        {
          "output_type": "stream",
          "name": "stdout",
          "text": [
            "o valor total é: 50\n"
          ]
        }
      ]
    },
    {
      "cell_type": "code",
      "source": [
        ""
      ],
      "metadata": {
        "id": "lzWWVBsWCpow"
      },
      "execution_count": null,
      "outputs": []
    }
  ]
}